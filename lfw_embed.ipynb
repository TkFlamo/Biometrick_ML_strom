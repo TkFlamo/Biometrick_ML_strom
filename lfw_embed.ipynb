{
 "cells": [
  {
   "cell_type": "code",
   "execution_count": 14,
   "metadata": {},
   "outputs": [],
   "source": [
    "import glob\n",
    "import os\n",
    "from tqdm import tqdm\n",
    "import cv2\n",
    "import numpy as np\n",
    "import insightface\n",
    "from matplotlib import pyplot as plt\n",
    "from insightface.app import FaceAnalysis\n",
    "from insightface.data import get_image as get_image\n",
    "import pickle"
   ]
  },
  {
   "cell_type": "markdown",
   "metadata": {},
   "source": [
    "### Расчет эмбеддингов AcrFace для датасета LFW"
   ]
  },
  {
   "cell_type": "code",
   "execution_count": 2,
   "metadata": {},
   "outputs": [
    {
     "name": "stderr",
     "output_type": "stream",
     "text": [
      "c:\\ML_stuff\\BHACK_2\\insface\\Lib\\site-packages\\onnxruntime\\capi\\onnxruntime_inference_collection.py:69: UserWarning: Specified provider 'CUDAExecutionProvider' is not in available provider names.Available providers: 'AzureExecutionProvider, CPUExecutionProvider'\n",
      "  warnings.warn(\n"
     ]
    },
    {
     "name": "stdout",
     "output_type": "stream",
     "text": [
      "Applied providers: ['CPUExecutionProvider'], with options: {'CPUExecutionProvider': {}}\n"
     ]
    }
   ],
   "source": [
    "handler = insightface.model_zoo.get_model('w600k_r50.onnx')\n",
    "handler.prepare(ctx_id=0)"
   ]
  },
  {
   "cell_type": "code",
   "execution_count": 3,
   "metadata": {},
   "outputs": [
    {
     "name": "stderr",
     "output_type": "stream",
     "text": [
      "100%|██████████| 5749/5749 [15:20<00:00,  6.25it/s]   \n"
     ]
    }
   ],
   "source": [
    "embed_dict = {}\n",
    "\n",
    "for person_name in tqdm(os.listdir(\"cropped_faces\")):\n",
    "    person_folder = \"cropped_faces/\" + person_name\n",
    "    embed_dict.update({person_name : {}})\n",
    "    for img_name in os.listdir(person_folder):\n",
    "        img_path = person_folder + \"/\" + img_name\n",
    "        img = cv2.imread(img_path)\n",
    "        vec = handler.get_feat(img)[0]\n",
    "        embed_dict[person_name].update({img_name : vec})"
   ]
  },
  {
   "cell_type": "code",
   "execution_count": null,
   "metadata": {},
   "outputs": [],
   "source": [
    "embed_dict.pop('Larry_Hahn')"
   ]
  },
  {
   "cell_type": "code",
   "execution_count": null,
   "metadata": {},
   "outputs": [],
   "source": [
    "# Сохраняем эмбеддинги\n",
    "\n",
    "with open('emb_data.pkl', 'wb') as f:\n",
    "    pickle.dump(embed_dict, f)"
   ]
  },
  {
   "cell_type": "code",
   "execution_count": 66,
   "metadata": {},
   "outputs": [],
   "source": [
    "with open('emb_data.pkl', 'rb') as f:\n",
    "    embed_dict = pickle.load(f)"
   ]
  },
  {
   "cell_type": "markdown",
   "metadata": {},
   "source": [
    "### Расчитываем дистанции между парами изображений одинаковых/разных людей"
   ]
  },
  {
   "cell_type": "code",
   "execution_count": 51,
   "metadata": {},
   "outputs": [],
   "source": [
    "def eq_dist(embed_dict):\n",
    "    all_dist = []\n",
    "    for person in embed_dict.keys():\n",
    "        emb = []\n",
    "        for img in embed_dict[person].keys():\n",
    "            emb.append(embed_dict[person][img])\n",
    "        for i in range(len(emb)):\n",
    "            for j in range(i + 1, len(emb)):\n",
    "                source = emb[i]\n",
    "                target = emb[j]\n",
    "                num_dist = (np.sum(np.multiply(target, source))) / (np.sqrt(np.sum(np.multiply(target, target))) * np.sqrt(np.sum(np.multiply(source, source))))\n",
    "                all_dist.append(num_dist)\n",
    "    return all_dist"
   ]
  },
  {
   "cell_type": "code",
   "execution_count": 55,
   "metadata": {},
   "outputs": [],
   "source": [
    "def neq_dist(embed_dict):\n",
    "    all_dist = []\n",
    "    for person in embed_dict.keys():\n",
    "        if(len(all_dist) > 250000):\n",
    "            break\n",
    "        emb = embed_dict[person][list(embed_dict[person].keys())[0]]\n",
    "        for p in embed_dict.keys():\n",
    "            if (p != person):\n",
    "                source = emb\n",
    "                target = embed_dict[p][list(embed_dict[p].keys())[0]]\n",
    "                num_dist = (np.sum(np.multiply(target, source))) / (np.sqrt(np.sum(np.multiply(target, target))) * np.sqrt(np.sum(np.multiply(source, source))))\n",
    "                all_dist.append(num_dist)\n",
    "    return all_dist"
   ]
  },
  {
   "cell_type": "code",
   "execution_count": 56,
   "metadata": {},
   "outputs": [],
   "source": [
    "eq_d = eq_dist(embed_dict)\n",
    "neq_d = neq_dist(embed_dict)"
   ]
  },
  {
   "cell_type": "code",
   "execution_count": 58,
   "metadata": {},
   "outputs": [
    {
     "data": {
      "image/png": "[encoded data removed]",
      "text/plain": [
       "<Figure size 640x480 with 1 Axes>"
      ]
     },
     "metadata": {},
     "output_type": "display_data"
    }
   ],
   "source": [
    "bins = np.linspace(0, 1, 50)\n",
    "\n",
    "plt.hist(eq_d, bins, alpha=0.5, label='x')\n",
    "plt.hist(neq_d, bins, alpha=0.5, label='y')\n",
    "plt.legend(loc='upper right')\n",
    "plt.show()"
   ]
  },
  {
   "cell_type": "markdown",
   "metadata": {},
   "source": [
    "### Пороговое значение косинуса получаем перебором возможных значении и выбором лучшего по accuracy"
   ]
  },
  {
   "cell_type": "code",
   "execution_count": 60,
   "metadata": {},
   "outputs": [],
   "source": [
    "def accuracy(eq_d, neq_d, p):\n",
    "    tp = 0\n",
    "    fp = 0\n",
    "    tn = 0\n",
    "    fn = 0\n",
    "    for d in eq_d:\n",
    "        if (d >= p):\n",
    "            tp += 1\n",
    "        else:\n",
    "            fn += 1\n",
    "    for d in neq_d:\n",
    "        if (d < p):\n",
    "            tn += 1\n",
    "        else:\n",
    "            fp += 1\n",
    "    accuracy = (tp + tn) / (tp + fp + tn + fn)\n",
    "    return accuracy"
   ]
  },
  {
   "cell_type": "code",
   "execution_count": 62,
   "metadata": {},
   "outputs": [
    {
     "name": "stdout",
     "output_type": "stream",
     "text": [
      "[0.2, 0.9950410652317064]\n"
     ]
    }
   ],
   "source": [
    "max_acc = 0\n",
    "max_p = 0\n",
    "for i in range(100):\n",
    "    p = i / 100\n",
    "    acc = accuracy(eq_d, neq_d, p)\n",
    "    if (acc > max_acc):\n",
    "        max_acc = acc\n",
    "        max_p = p\n",
    "print([max_p, max_acc])"
   ]
  },
  {
   "cell_type": "markdown",
   "metadata": {},
   "source": [
    "### Итоговое пороговое значение косинуса 0.2"
   ]
  },
  {
   "cell_type": "code",
   "execution_count": 65,
   "metadata": {},
   "outputs": [
    {
     "data": {
      "image/png": "[encoded data removed]",
      "text/plain": [
       "<Figure size 640x480 with 1 Axes>"
      ]
     },
     "metadata": {},
     "output_type": "display_data"
    }
   ],
   "source": [
    "bins = np.linspace(0, 1, 50)\n",
    "\n",
    "plt.hist(eq_d, bins, alpha=0.5, label='eq')\n",
    "plt.hist(neq_d, bins, alpha=0.5, label='neq')\n",
    "plt.axvline(max_p, color='r', linewidth=1)\n",
    "plt.legend(loc='upper right')\n",
    "plt.show()"
   ]
  }
 ],
 "metadata": {
  "kernelspec": {
   "display_name": "insface",
   "language": "python",
   "name": "python3"
  },
  "language_info": {
   "codemirror_mode": {
    "name": "ipython",
    "version": 3
   },
   "file_extension": ".py",
   "mimetype": "text/x-python",
   "name": "python",
   "nbconvert_exporter": "python",
   "pygments_lexer": "ipython3",
   "version": "3.11.7"
  }
 },
 "nbformat": 4,
 "nbformat_minor": 2
}
