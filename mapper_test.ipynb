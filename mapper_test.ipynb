{
 "cells": [
  {
   "cell_type": "code",
   "execution_count": 1,
   "metadata": {},
   "outputs": [
    {
     "name": "stderr",
     "output_type": "stream",
     "text": [
      "c:\\Users\\savel\\AppData\\Local\\Programs\\Python\\Python311\\Lib\\site-packages\\tqdm\\auto.py:21: TqdmWarning: IProgress not found. Please update jupyter and ipywidgets. See https://ipywidgets.readthedocs.io/en/stable/user_install.html\n",
      "  from .autonotebook import tqdm as notebook_tqdm\n",
      "c:\\Users\\savel\\AppData\\Local\\Programs\\Python\\Python311\\Lib\\site-packages\\albumentations\\__init__.py:13: UserWarning: A new version of Albumentations is available: 1.4.18 (you have 1.4.14). Upgrade using: pip install -U albumentations. To disable automatic update checks, set the environment variable NO_ALBUMENTATIONS_UPDATE to 1.\n",
      "  check_for_updates()\n"
     ]
    }
   ],
   "source": [
    "from m_mapper import StyleCLIPMapper\n",
    "from torchvision import transforms\n",
    "from PIL import Image\n",
    "import torch\n",
    "from models.facial_recognition.model_irse import Backbone\n",
    "from matplotlib import pyplot as plt\n",
    "import torchvision\n",
    "import numpy as np\n",
    "import pickle\n",
    "import insightface\n",
    "import cv2\n",
    "from tqdm import tqdm\n",
    "import os"
   ]
  },
  {
   "cell_type": "markdown",
   "metadata": {},
   "source": [
    "### Инициализируем модели\n",
    "Маппер с генератором изображений и ArcFace для распознавания "
   ]
  },
  {
   "cell_type": "code",
   "execution_count": 2,
   "metadata": {},
   "outputs": [
    {
     "name": "stdout",
     "output_type": "stream",
     "text": [
      "Loading from checkpoint: ./exp_12/checkpoints/iteration_30000.pt\n"
     ]
    },
    {
     "name": "stderr",
     "output_type": "stream",
     "text": [
      "c:\\ML_stuff\\BHACK_2\\test_solution\\m_mapper.py:35: FutureWarning: You are using `torch.load` with `weights_only=False` (the current default value), which uses the default pickle module implicitly. It is possible to construct malicious pickle data which will execute arbitrary code during unpickling (See https://github.com/pytorch/pytorch/blob/main/SECURITY.md#untrusted-models for more details). In a future release, the default value for `weights_only` will be flipped to `True`. This limits the functions that could be executed during unpickling. Arbitrary objects will no longer be allowed to be loaded via this mode unless they are explicitly allowlisted by the user via `torch.serialization.add_safe_globals`. We recommend you start setting `weights_only=True` for any use case where you don't have full control of the loaded file. Please open an issue on GitHub for any issues related to this experimental feature.\n",
      "  ckpt = torch.load(path, map_location='cuda:0')\n",
      "c:\\ML_stuff\\BHACK_2\\test_solution\\m_mapper.py:39: FutureWarning: You are using `torch.load` with `weights_only=False` (the current default value), which uses the default pickle module implicitly. It is possible to construct malicious pickle data which will execute arbitrary code during unpickling (See https://github.com/pytorch/pytorch/blob/main/SECURITY.md#untrusted-models for more details). In a future release, the default value for `weights_only` will be flipped to `True`. This limits the functions that could be executed during unpickling. Arbitrary objects will no longer be allowed to be loaded via this mode unless they are explicitly allowlisted by the user via `torch.serialization.add_safe_globals`. We recommend you start setting `weights_only=True` for any use case where you don't have full control of the loaded file. Please open an issue on GitHub for any issues related to this experimental feature.\n",
      "  ckpt = torch.load(\"./pretrained_models/stylegan2-ffhq-config-f.pt\")\n",
      "c:\\Users\\savel\\AppData\\Local\\Programs\\Python\\Python311\\Lib\\site-packages\\onnxruntime\\capi\\onnxruntime_inference_collection.py:65: UserWarning: Specified provider 'CUDAExecutionProvider' is not in available provider names.Available providers: 'CPUExecutionProvider'\n",
      "  warnings.warn(\n"
     ]
    },
    {
     "name": "stdout",
     "output_type": "stream",
     "text": [
      "Applied providers: ['CPUExecutionProvider'], with options: {'CPUExecutionProvider': {}}\n"
     ]
    }
   ],
   "source": [
    "maper = StyleCLIPMapper(\"./exp_12/checkpoints/iteration_30000.pt\")\n",
    "handler = insightface.model_zoo.get_model('w600k_r50.onnx')\n",
    "handler.prepare(ctx_id=0)\n",
    "pass"
   ]
  },
  {
   "cell_type": "markdown",
   "metadata": {},
   "source": [
    "### Загружаем словарь эмбеддингов LFW, полученных с помощью ArcFace"
   ]
  },
  {
   "cell_type": "code",
   "execution_count": 3,
   "metadata": {},
   "outputs": [],
   "source": [
    "with open('emb_data.pkl', 'rb') as f:\n",
    "    embed_dict = pickle.load(f)"
   ]
  },
  {
   "cell_type": "markdown",
   "metadata": {},
   "source": [
    "### Расчитываем дистанции между парами изображений одинаковых/разных людей и парами изображение + изображение сгенерированное по его эмбеддингу"
   ]
  },
  {
   "cell_type": "code",
   "execution_count": 12,
   "metadata": {},
   "outputs": [],
   "source": [
    "# одинаковые\n",
    "def eq_dist(embed_dict):\n",
    "    all_dist = []\n",
    "    for person in embed_dict.keys():\n",
    "        if(len(all_dist) > 20000):\n",
    "            break\n",
    "        emb = []\n",
    "        for img in embed_dict[person].keys():\n",
    "            emb.append(embed_dict[person][img])\n",
    "        for i in range(len(emb)):\n",
    "            for j in range(i + 1, len(emb)):\n",
    "                source = emb[i]\n",
    "                target = emb[j]\n",
    "                num_dist = (np.sum(np.multiply(target, source))) / (np.sqrt(np.sum(np.multiply(target, target))) * np.sqrt(np.sum(np.multiply(source, source))))\n",
    "                all_dist.append(num_dist)\n",
    "    return all_dist"
   ]
  },
  {
   "cell_type": "code",
   "execution_count": 13,
   "metadata": {},
   "outputs": [],
   "source": [
    "# разные\n",
    "def neq_dist(embed_dict):\n",
    "    all_dist = []\n",
    "    for person in embed_dict.keys():\n",
    "        if(len(all_dist) > 20000):\n",
    "            break\n",
    "        emb = embed_dict[person][list(embed_dict[person].keys())[0]]\n",
    "        for p in embed_dict.keys():\n",
    "            if (p != person):\n",
    "                source = emb\n",
    "                target = embed_dict[p][list(embed_dict[p].keys())[0]]\n",
    "                num_dist = (np.sum(np.multiply(target, source))) / (np.sqrt(np.sum(np.multiply(target, target))) * np.sqrt(np.sum(np.multiply(source, source))))\n",
    "                all_dist.append(num_dist)\n",
    "    return all_dist"
   ]
  },
  {
   "cell_type": "code",
   "execution_count": 6,
   "metadata": {},
   "outputs": [],
   "source": [
    "# сгенерированные\n",
    "def gen_dist(embed_dict):\n",
    "    all_dist = []\n",
    "    for person in tqdm(embed_dict.keys()):\n",
    "        os.mkdir(\"lfw_gen/\" + person)\n",
    "        for img in  embed_dict[person].keys():\n",
    "            emb = embed_dict[person][img]\n",
    "            emb = torch.Tensor(emb).to(torch.device(\"cuda:0\"))\n",
    "            gen_image = maper(emb)\n",
    "            torchvision.utils.save_image(gen_image.cpu(), \"lfw_gen/\" + person + \"/\" + img[:-4] + \"_gen.jpg\",\n",
    "                                     normalize=True)\n",
    "            gen_img = cv2.imread(\"lfw_gen/\" + person + \"/\" + img[:-4] + \"_gen.jpg\")\n",
    "            gen_emb = handler.get_feat(gen_img)[0]\n",
    "            emb = emb.cpu().detach().numpy()\n",
    "            num_dist = (np.sum(np.multiply(emb, gen_emb))) / (np.sqrt(np.sum(np.multiply(emb, emb))) * np.sqrt(np.sum(np.multiply(gen_emb, gen_emb))))\n",
    "            all_dist.append(num_dist)\n",
    "    return all_dist"
   ]
  },
  {
   "cell_type": "code",
   "execution_count": 14,
   "metadata": {},
   "outputs": [],
   "source": [
    "eq_d = eq_dist(embed_dict)\n",
    "neq_d = neq_dist(embed_dict)"
   ]
  },
  {
   "cell_type": "code",
   "execution_count": 8,
   "metadata": {},
   "outputs": [
    {
     "name": "stderr",
     "output_type": "stream",
     "text": [
      "100%|██████████| 5748/5748 [36:16<00:00,  2.64it/s]   \n"
     ]
    }
   ],
   "source": [
    "gen_d = gen_dist(embed_dict)"
   ]
  },
  {
   "cell_type": "code",
   "execution_count": 11,
   "metadata": {},
   "outputs": [
    {
     "data": {
      "text/plain": [
       "13229"
      ]
     },
     "execution_count": 11,
     "metadata": {},
     "output_type": "execute_result"
    }
   ],
   "source": [
    "len(gen_d)"
   ]
  },
  {
   "cell_type": "markdown",
   "metadata": {},
   "source": [
    "### Считаем attack success rate\n",
    "Количество сгенерированных изображений, прошедших порог / количество всех сгенерированных изображений"
   ]
  },
  {
   "cell_type": "code",
   "execution_count": 15,
   "metadata": {},
   "outputs": [
    {
     "name": "stdout",
     "output_type": "stream",
     "text": [
      "Attack success rate (accuracy): 0.9758107188751984\n"
     ]
    }
   ],
   "source": [
    "t = 0\n",
    "f = 0\n",
    "for d in gen_d:\n",
    "    if (d >= 0.2):\n",
    "        t += 1\n",
    "    else:\n",
    "        f += 1\n",
    "print(f\"Attack success rate (accuracy): {t / (t + f)}\")"
   ]
  },
  {
   "cell_type": "markdown",
   "metadata": {},
   "source": [
    "### Строим распределение"
   ]
  },
  {
   "cell_type": "code",
   "execution_count": 16,
   "metadata": {},
   "outputs": [
    {
     "data": {
      "image/png": "[encoded data removed]",
      "text/plain": [
       "<Figure size 640x480 with 1 Axes>"
      ]
     },
     "metadata": {},
     "output_type": "display_data"
    }
   ],
   "source": [
    "bins = np.linspace(0, 1, 50)\n",
    "\n",
    "plt.hist(eq_d, bins, alpha=0.5, label='eq')\n",
    "plt.hist(neq_d, bins, alpha=0.5, label='neq')\n",
    "plt.hist(gen_d, bins, alpha=0.5, label='gen')\n",
    "plt.axvline(0.2, color='r', linewidth=1)\n",
    "plt.legend(loc='upper right')\n",
    "plt.show()"
   ]
  },
  {
   "cell_type": "markdown",
   "metadata": {},
   "source": [
    "### Генерируем изображения для тестового датасета эмбеддингов"
   ]
  },
  {
   "cell_type": "code",
   "execution_count": 17,
   "metadata": {},
   "outputs": [],
   "source": [
    "with open('embedding_v3.pickle', 'rb') as f:\n",
    "    embed_dict_test = pickle.load(f)"
   ]
  },
  {
   "cell_type": "code",
   "execution_count": 24,
   "metadata": {},
   "outputs": [],
   "source": [
    "def gen_dist_test(embed_dict_test):\n",
    "    all_dist = []\n",
    "    for img in  embed_dict_test.keys():\n",
    "        emb = embed_dict_test[img][\"embedding\"]\n",
    "        emb = torch.Tensor(emb).to(torch.device(\"cuda:0\"))\n",
    "        gen_image = maper(emb)\n",
    "        torchvision.utils.save_image(gen_image.cpu(), \"test_gen/\" + img,\n",
    "                                     normalize=True)\n",
    "        gen_img = cv2.imread(\"test_gen/\" + img)\n",
    "        gen_emb = handler.get_feat(gen_img)[0]\n",
    "        \n",
    "        emb = emb.cpu().detach().numpy()\n",
    "        \n",
    "        num_dist = (np.sum(np.multiply(emb, gen_emb))) / (np.sqrt(np.sum(np.multiply(emb, emb))) * np.sqrt(np.sum(np.multiply(gen_emb, gen_emb))))\n",
    "        all_dist.append(num_dist)\n",
    "    return all_dist"
   ]
  },
  {
   "cell_type": "code",
   "execution_count": 25,
   "metadata": {},
   "outputs": [],
   "source": [
    "gen_d_test = gen_dist_test(embed_dict_test)"
   ]
  },
  {
   "cell_type": "markdown",
   "metadata": {},
   "source": [
    "### Считаем attack success rate"
   ]
  },
  {
   "cell_type": "code",
   "execution_count": 26,
   "metadata": {},
   "outputs": [
    {
     "name": "stdout",
     "output_type": "stream",
     "text": [
      "Attack success rate (accuracy): 1.0\n"
     ]
    }
   ],
   "source": [
    "t = 0\n",
    "f = 0\n",
    "for d in gen_d_test:\n",
    "    if (d >= 0.2):\n",
    "        t += 1\n",
    "    else:\n",
    "        f += 1\n",
    "print(f\"Attack success rate (accuracy): {t / (t + f)}\")"
   ]
  }
 ],
 "metadata": {
  "kernelspec": {
   "display_name": "Python 3",
   "language": "python",
   "name": "python3"
  },
  "language_info": {
   "codemirror_mode": {
    "name": "ipython",
    "version": 3
   },
   "file_extension": ".py",
   "mimetype": "text/x-python",
   "name": "python",
   "nbconvert_exporter": "python",
   "pygments_lexer": "ipython3",
   "version": "3.11.7"
  }
 },
 "nbformat": 4,
 "nbformat_minor": 2
}
